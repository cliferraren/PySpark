{
 "cells": [
  {
   "cell_type": "markdown",
   "metadata": {},
   "source": [
    "## NLP - NGram"
   ]
  },
  {
   "cell_type": "markdown",
   "metadata": {},
   "source": [
    "---"
   ]
  },
  {
   "cell_type": "code",
   "execution_count": 1,
   "metadata": {},
   "outputs": [],
   "source": [
    "#Import Session\n",
    "from pyspark.sql import SparkSession\n",
    "from pyspark.ml.feature import Tokenizer, NGram"
   ]
  },
  {
   "cell_type": "code",
   "execution_count": 2,
   "metadata": {},
   "outputs": [],
   "source": [
    "#Create the spark app\n",
    "spark = SparkSession.builder.appName(\"NGram\").getOrCreate()"
   ]
  },
  {
   "cell_type": "code",
   "execution_count": 3,
   "metadata": {},
   "outputs": [
    {
     "name": "stdout",
     "output_type": "stream",
     "text": [
      "+---+--------------------+\n",
      "| id|               words|\n",
      "+---+--------------------+\n",
      "|  0|[Hi, I, heard, ab...|\n",
      "|  1|[What, exactly, a...|\n",
      "|  2|[Not, sure, yea, ...|\n",
      "+---+--------------------+\n",
      "\n"
     ]
    }
   ],
   "source": [
    "# create word dataframe\n",
    "wordDataFrame = spark.createDataFrame(\n",
    "    [(0, [\"Hi\", \"I\", \"heard\", \"about\", \"Spark\"]),\n",
    "    (1, [\"What\", \"exactly\", \"are\", \"ngrams\", \"used\", \"for\", \"hmmm\"]),\n",
    "    (2, [\"Not\", \"sure\", \"yea\", \"but\", \"learning\"])], \n",
    "    [\"id\", \"words\"])\n",
    "\n",
    "wordDataFrame.show()"
   ]
  },
  {
   "cell_type": "code",
   "execution_count": 4,
   "metadata": {},
   "outputs": [
    {
     "name": "stdout",
     "output_type": "stream",
     "text": [
      "+--------------------+\n",
      "|         Sample Text|\n",
      "+--------------------+\n",
      "|The dog barks at ...|\n",
      "+--------------------+\n",
      "\n"
     ]
    }
   ],
   "source": [
    "#Create word dataframe from csv file\n",
    "dataframe = spark.read.format('csv').option('header','true').load('data/sampleText.csv')\n",
    "dataframe.show()"
   ]
  },
  {
   "cell_type": "code",
   "execution_count": 5,
   "metadata": {},
   "outputs": [
    {
     "name": "stdout",
     "output_type": "stream",
     "text": [
      "+--------------------+--------------------+\n",
      "|         Sample Text|           tokenized|\n",
      "+--------------------+--------------------+\n",
      "|The dog barks at ...|[the, dog, barks,...|\n",
      "+--------------------+--------------------+\n",
      "\n"
     ]
    }
   ],
   "source": [
    "#Tokenize the dataframe\n",
    "token_data = Tokenizer(inputCol='Sample Text', outputCol='tokenized')\n",
    "reviewed = token_data.transform(dataframe)\n",
    "reviewed.show()"
   ]
  },
  {
   "cell_type": "code",
   "execution_count": 6,
   "metadata": {},
   "outputs": [],
   "source": [
    "#Create a bigram with n set to 2\n",
    "ngram = NGram(n=2, inputCol='tokenized', outputCol='ngrams')"
   ]
  },
  {
   "cell_type": "code",
   "execution_count": 7,
   "metadata": {},
   "outputs": [],
   "source": [
    "#Transform the dataframe\n",
    "ngram_df = ngram.transform(reviewed)"
   ]
  },
  {
   "cell_type": "code",
   "execution_count": 9,
   "metadata": {},
   "outputs": [
    {
     "name": "stdout",
     "output_type": "stream",
     "text": [
      "+----------------------------------------------------------------------------------------------------------------------------------------------+\n",
      "|ngrams                                                                                                                                        |\n",
      "+----------------------------------------------------------------------------------------------------------------------------------------------+\n",
      "|[the dog, dog barks, barks at, at the, the nearby, nearby neighbor, neighbor and, and the, the dog, dog barks, barks at, at the, the mailman.]|\n",
      "+----------------------------------------------------------------------------------------------------------------------------------------------+\n",
      "\n"
     ]
    }
   ],
   "source": [
    "#Show N gram results\n",
    "ngram_df.select('ngrams').show(truncate=False)"
   ]
  },
  {
   "cell_type": "code",
   "execution_count": 10,
   "metadata": {},
   "outputs": [],
   "source": [
    "spark.stop()"
   ]
  },
  {
   "cell_type": "code",
   "execution_count": null,
   "metadata": {},
   "outputs": [],
   "source": []
  }
 ],
 "metadata": {
  "kernelspec": {
   "display_name": "Python 3",
   "language": "python",
   "name": "python3"
  },
  "language_info": {
   "codemirror_mode": {
    "name": "ipython",
    "version": 3
   },
   "file_extension": ".py",
   "mimetype": "text/x-python",
   "name": "python",
   "nbconvert_exporter": "python",
   "pygments_lexer": "ipython3",
   "version": "3.7.0"
  }
 },
 "nbformat": 4,
 "nbformat_minor": 2
}
