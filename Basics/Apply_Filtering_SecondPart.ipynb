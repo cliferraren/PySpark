{
 "cells": [
  {
   "cell_type": "markdown",
   "metadata": {},
   "source": [
    "## Filtering Data - Second Part"
   ]
  },
  {
   "cell_type": "markdown",
   "metadata": {},
   "source": [
    "---"
   ]
  },
  {
   "cell_type": "code",
   "execution_count": 1,
   "metadata": {},
   "outputs": [],
   "source": [
    "from pyspark.sql import SparkSession"
   ]
  },
  {
   "cell_type": "code",
   "execution_count": 2,
   "metadata": {},
   "outputs": [],
   "source": [
    "spark = SparkSession.builder.appName('Filtering').getOrCreate()"
   ]
  },
  {
   "cell_type": "code",
   "execution_count": 3,
   "metadata": {},
   "outputs": [],
   "source": [
    "df = spark.read.csv('data/demographics.csv', header=True,inferSchema=True)"
   ]
  },
  {
   "cell_type": "code",
   "execution_count": 4,
   "metadata": {},
   "outputs": [
    {
     "name": "stdout",
     "output_type": "stream",
     "text": [
      "root\n",
      " |-- id: integer (nullable = true)\n",
      " |-- name: string (nullable = true)\n",
      " |-- age: integer (nullable = true)\n",
      " |-- height_meter: double (nullable = true)\n",
      " |-- weight_kg: integer (nullable = true)\n",
      " |-- children: integer (nullable = true)\n",
      " |-- occupation: string (nullable = true)\n",
      " |-- academic_degree: string (nullable = true)\n",
      " |-- salary: integer (nullable = true)\n",
      " |-- location: string (nullable = true)\n",
      "\n"
     ]
    }
   ],
   "source": [
    "df.printSchema()"
   ]
  },
  {
   "cell_type": "code",
   "execution_count": 5,
   "metadata": {},
   "outputs": [
    {
     "name": "stdout",
     "output_type": "stream",
     "text": [
      "+-----------------+------+\n",
      "|       occupation|salary|\n",
      "+-----------------+------+\n",
      "|Medical Physicist|    90|\n",
      "+-----------------+------+\n",
      "\n"
     ]
    }
   ],
   "source": [
    "#What occupation had the higest salary?\n",
    "df.orderBy(df['salary'].desc()).select('occupation', 'salary').limit(1).show()"
   ]
  },
  {
   "cell_type": "code",
   "execution_count": 7,
   "metadata": {},
   "outputs": [
    {
     "name": "stdout",
     "output_type": "stream",
     "text": [
      "+--------------+------+\n",
      "|    occupation|salary|\n",
      "+--------------+------+\n",
      "|Window Dresser|    65|\n",
      "+--------------+------+\n",
      "\n"
     ]
    }
   ],
   "source": [
    "#What occupation had the lowest salary?\n",
    "df.orderBy(df['salary']).select('occupation', 'salary').limit(1).show()"
   ]
  },
  {
   "cell_type": "code",
   "execution_count": 8,
   "metadata": {},
   "outputs": [
    {
     "name": "stdout",
     "output_type": "stream",
     "text": [
      "+-----------+\n",
      "|avg(salary)|\n",
      "+-----------+\n",
      "|     77.738|\n",
      "+-----------+\n",
      "\n"
     ]
    }
   ],
   "source": [
    "# What is the mean salary of this dataset?\n",
    "\n",
    "#Import Functions\n",
    "from pyspark.sql.functions import mean\n",
    "df.select(mean('salary')).show()"
   ]
  },
  {
   "cell_type": "code",
   "execution_count": 9,
   "metadata": {},
   "outputs": [
    {
     "name": "stdout",
     "output_type": "stream",
     "text": [
      "+-----------+-----------+\n",
      "|min(salary)|max(salary)|\n",
      "+-----------+-----------+\n",
      "|         65|         90|\n",
      "+-----------+-----------+\n",
      "\n"
     ]
    }
   ],
   "source": [
    "# What is the max and min of the Salary column?\n",
    "from pyspark.sql.functions import min, max\n",
    "df.select(min('salary'), max('salary')).show()"
   ]
  },
  {
   "cell_type": "code",
   "execution_count": 11,
   "metadata": {},
   "outputs": [
    {
     "data": {
      "text/plain": [
       "[Row(occupation='Hawker'),\n",
       " Row(occupation='Choreographer'),\n",
       " Row(occupation='Millwright'),\n",
       " Row(occupation='Medical Physicist'),\n",
       " Row(occupation='Scientist'),\n",
       " Row(occupation='Claims Adjustor'),\n",
       " Row(occupation='Planning Technician'),\n",
       " Row(occupation='Booking Clerk'),\n",
       " Row(occupation='Sub-Postmaster'),\n",
       " Row(occupation='Shelf Filler')]"
      ]
     },
     "execution_count": 11,
     "metadata": {},
     "output_type": "execute_result"
    }
   ],
   "source": [
    "#Show all of the occupations where salaries were above 80k\n",
    "from pyspark.sql.functions import count\n",
    "df.filter('salary > 80').select('occupation').head(10)"
   ]
  },
  {
   "cell_type": "code",
   "execution_count": 12,
   "metadata": {},
   "outputs": [
    {
     "data": {
      "text/plain": [
       "DataFrame[summary: string, id: string, name: string, age: string, height_meter: string, weight_kg: string, children: string, occupation: string, academic_degree: string, salary: string, location: string]"
      ]
     },
     "execution_count": 12,
     "metadata": {},
     "output_type": "execute_result"
    }
   ],
   "source": [
    "df.describe()"
   ]
  },
  {
   "cell_type": "code",
   "execution_count": 16,
   "metadata": {},
   "outputs": [
    {
     "name": "stdout",
     "output_type": "stream",
     "text": [
      "+---------------+------------------+------------------+\n",
      "|academic_degree|          avg(age)| avg(height_meter)|\n",
      "+---------------+------------------+------------------+\n",
      "|            PhD| 43.15976331360947|1.7438165680473379|\n",
      "|         Master|43.139318885448915|1.7549226006191951|\n",
      "|       Bachelor| 42.51032448377581| 1.757227138643069|\n",
      "+---------------+------------------+------------------+\n",
      "\n"
     ]
    }
   ],
   "source": [
    "# BONUS\n",
    "# What is the average age and height for each academic degree type?\n",
    "# HINT: You will need to use `groupBy` to solve this\n",
    "avg_df = df.groupBy('academic_degree').avg()\n",
    "avg_df.select(\"academic_degree\",\"avg(age)\",\"avg(height_meter)\").show()"
   ]
  },
  {
   "cell_type": "code",
   "execution_count": null,
   "metadata": {},
   "outputs": [],
   "source": []
  }
 ],
 "metadata": {
  "kernelspec": {
   "display_name": "Python 3",
   "language": "python",
   "name": "python3"
  },
  "language_info": {
   "codemirror_mode": {
    "name": "ipython",
    "version": 3
   },
   "file_extension": ".py",
   "mimetype": "text/x-python",
   "name": "python",
   "nbconvert_exporter": "python",
   "pygments_lexer": "ipython3",
   "version": "3.7.0"
  }
 },
 "nbformat": 4,
 "nbformat_minor": 2
}
