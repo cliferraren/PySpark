{
 "cells": [
  {
   "cell_type": "markdown",
   "metadata": {},
   "source": [
    "## Rainfall Analysis"
   ]
  },
  {
   "cell_type": "markdown",
   "metadata": {},
   "source": [
    "---"
   ]
  },
  {
   "cell_type": "code",
   "execution_count": 1,
   "metadata": {},
   "outputs": [],
   "source": [
    "from pyspark.sql import SparkSession"
   ]
  },
  {
   "cell_type": "code",
   "execution_count": 2,
   "metadata": {},
   "outputs": [],
   "source": [
    "spark = SparkSession.builder.appName(\"Rainfall\").getOrCreate()"
   ]
  },
  {
   "cell_type": "code",
   "execution_count": 4,
   "metadata": {},
   "outputs": [],
   "source": [
    "# Read in data and store in dataframe\n",
    "df = spark.read.csv('data/rainfall.csv', header=True,inferSchema=True)"
   ]
  },
  {
   "cell_type": "code",
   "execution_count": 5,
   "metadata": {},
   "outputs": [
    {
     "name": "stdout",
     "output_type": "stream",
     "text": [
      "+-----------+-------------------+----+----+\n",
      "|    station|               date|prcp|tobs|\n",
      "+-----------+-------------------+----+----+\n",
      "|USC00519397|2010-01-01 00:00:00|0.08|  65|\n",
      "|USC00519397|2010-01-02 00:00:00| 0.0|  63|\n",
      "|USC00519397|2010-01-03 00:00:00| 0.0|  74|\n",
      "|USC00519397|2010-01-04 00:00:00| 0.0|  76|\n",
      "|USC00519397|2010-01-06 00:00:00|null|  73|\n",
      "|USC00519397|2010-01-07 00:00:00|0.06|  70|\n",
      "|USC00519397|2010-01-08 00:00:00| 0.0|  64|\n",
      "|USC00519397|2010-01-09 00:00:00| 0.0|  68|\n",
      "|USC00519397|2010-01-10 00:00:00| 0.0|  73|\n",
      "|USC00519397|2010-01-11 00:00:00|0.01|  64|\n",
      "|USC00519397|2010-01-12 00:00:00| 0.0|  61|\n",
      "|USC00519397|2010-01-14 00:00:00| 0.0|  66|\n",
      "|USC00519397|2010-01-15 00:00:00| 0.0|  65|\n",
      "|USC00519397|2010-01-16 00:00:00| 0.0|  68|\n",
      "|USC00519397|2010-01-17 00:00:00| 0.0|  64|\n",
      "|USC00519397|2010-01-18 00:00:00| 0.0|  72|\n",
      "|USC00519397|2010-01-19 00:00:00| 0.0|  66|\n",
      "|USC00519397|2010-01-20 00:00:00| 0.0|  66|\n",
      "|USC00519397|2010-01-21 00:00:00| 0.0|  69|\n",
      "|USC00519397|2010-01-22 00:00:00| 0.0|  67|\n",
      "+-----------+-------------------+----+----+\n",
      "only showing top 20 rows\n",
      "\n"
     ]
    }
   ],
   "source": [
    "#Show Dataframe\n",
    "df.show()"
   ]
  },
  {
   "cell_type": "code",
   "execution_count": 7,
   "metadata": {},
   "outputs": [
    {
     "name": "stdout",
     "output_type": "stream",
     "text": [
      "root\n",
      " |-- station: string (nullable = true)\n",
      " |-- date: timestamp (nullable = true)\n",
      " |-- prcp: double (nullable = true)\n",
      " |-- tobs: integer (nullable = true)\n",
      "\n"
     ]
    }
   ],
   "source": [
    "df.printSchema()"
   ]
  },
  {
   "cell_type": "code",
   "execution_count": 8,
   "metadata": {},
   "outputs": [],
   "source": [
    "# Import date time functions\n",
    "from pyspark.sql.functions import year"
   ]
  },
  {
   "cell_type": "code",
   "execution_count": 9,
   "metadata": {},
   "outputs": [
    {
     "name": "stdout",
     "output_type": "stream",
     "text": [
      "+----------+\n",
      "|year(date)|\n",
      "+----------+\n",
      "|      2010|\n",
      "|      2010|\n",
      "|      2010|\n",
      "|      2010|\n",
      "|      2010|\n",
      "|      2010|\n",
      "|      2010|\n",
      "|      2010|\n",
      "|      2010|\n",
      "|      2010|\n",
      "|      2010|\n",
      "|      2010|\n",
      "|      2010|\n",
      "|      2010|\n",
      "|      2010|\n",
      "|      2010|\n",
      "|      2010|\n",
      "|      2010|\n",
      "|      2010|\n",
      "|      2010|\n",
      "+----------+\n",
      "only showing top 20 rows\n",
      "\n"
     ]
    }
   ],
   "source": [
    "# Show the year for the date column\n",
    "df.select(year(df['date'])).show()"
   ]
  },
  {
   "cell_type": "code",
   "execution_count": 10,
   "metadata": {},
   "outputs": [
    {
     "name": "stdout",
     "output_type": "stream",
     "text": [
      "+-----------+-------------------+----+----+----+\n",
      "|    station|               date|prcp|tobs|year|\n",
      "+-----------+-------------------+----+----+----+\n",
      "|USC00519397|2010-01-01 00:00:00|0.08|  65|2010|\n",
      "|USC00519397|2010-01-02 00:00:00| 0.0|  63|2010|\n",
      "|USC00519397|2010-01-03 00:00:00| 0.0|  74|2010|\n",
      "|USC00519397|2010-01-04 00:00:00| 0.0|  76|2010|\n",
      "|USC00519397|2010-01-06 00:00:00|null|  73|2010|\n",
      "|USC00519397|2010-01-07 00:00:00|0.06|  70|2010|\n",
      "|USC00519397|2010-01-08 00:00:00| 0.0|  64|2010|\n",
      "|USC00519397|2010-01-09 00:00:00| 0.0|  68|2010|\n",
      "|USC00519397|2010-01-10 00:00:00| 0.0|  73|2010|\n",
      "|USC00519397|2010-01-11 00:00:00|0.01|  64|2010|\n",
      "|USC00519397|2010-01-12 00:00:00| 0.0|  61|2010|\n",
      "|USC00519397|2010-01-14 00:00:00| 0.0|  66|2010|\n",
      "|USC00519397|2010-01-15 00:00:00| 0.0|  65|2010|\n",
      "|USC00519397|2010-01-16 00:00:00| 0.0|  68|2010|\n",
      "|USC00519397|2010-01-17 00:00:00| 0.0|  64|2010|\n",
      "|USC00519397|2010-01-18 00:00:00| 0.0|  72|2010|\n",
      "|USC00519397|2010-01-19 00:00:00| 0.0|  66|2010|\n",
      "|USC00519397|2010-01-20 00:00:00| 0.0|  66|2010|\n",
      "|USC00519397|2010-01-21 00:00:00| 0.0|  69|2010|\n",
      "|USC00519397|2010-01-22 00:00:00| 0.0|  67|2010|\n",
      "+-----------+-------------------+----+----+----+\n",
      "only showing top 20 rows\n",
      "\n"
     ]
    }
   ],
   "source": [
    "# Save the year as a new column\n",
    "df = df.withColumn('year', year(df['date']))\n",
    "df.show()"
   ]
  },
  {
   "cell_type": "code",
   "execution_count": null,
   "metadata": {},
   "outputs": [],
   "source": []
  }
 ],
 "metadata": {
  "kernelspec": {
   "display_name": "Python 3",
   "language": "python",
   "name": "python3"
  },
  "language_info": {
   "codemirror_mode": {
    "name": "ipython",
    "version": 3
   },
   "file_extension": ".py",
   "mimetype": "text/x-python",
   "name": "python",
   "nbconvert_exporter": "python",
   "pygments_lexer": "ipython3",
   "version": "3.7.0"
  }
 },
 "nbformat": 4,
 "nbformat_minor": 2
}
