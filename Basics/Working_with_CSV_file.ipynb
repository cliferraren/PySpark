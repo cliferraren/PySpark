{
 "cells": [
  {
   "cell_type": "markdown",
   "metadata": {},
   "source": [
    "## Dataframe Basics - CSV File"
   ]
  },
  {
   "cell_type": "markdown",
   "metadata": {},
   "source": [
    "---"
   ]
  },
  {
   "cell_type": "code",
   "execution_count": 1,
   "metadata": {},
   "outputs": [],
   "source": [
    "#Start a Spark Session\n",
    "from pyspark.sql import SparkSession\n",
    "spark = SparkSession.builder.appName('demographics').getOrCreate()"
   ]
  },
  {
   "cell_type": "code",
   "execution_count": 3,
   "metadata": {},
   "outputs": [],
   "source": [
    "#Load the demographics.csv file. Spark will infer the data types\n",
    "df = spark.read.csv('data/demographics.csv', header = True,inferSchema=True)"
   ]
  },
  {
   "cell_type": "code",
   "execution_count": 4,
   "metadata": {},
   "outputs": [
    {
     "data": {
      "text/plain": [
       "['id',\n",
       " 'name',\n",
       " 'age',\n",
       " 'height_meter',\n",
       " 'weight_kg',\n",
       " 'children',\n",
       " 'occupation',\n",
       " 'academic_degree',\n",
       " 'salary',\n",
       " 'location']"
      ]
     },
     "execution_count": 4,
     "metadata": {},
     "output_type": "execute_result"
    }
   ],
   "source": [
    "#Print the Column Names\n",
    "df.columns"
   ]
  },
  {
   "cell_type": "code",
   "execution_count": 5,
   "metadata": {},
   "outputs": [
    {
     "data": {
      "text/plain": [
       "[Row(id=0, name='Darlena Avila', age=58, height_meter=1.87, weight_kg=53, children=1, occupation='Choreographer', academic_degree='PhD', salary=68, location='South Dakota'),\n",
       " Row(id=1, name='Yan Boyd', age=65, height_meter=1.8, weight_kg=40, children=0, occupation='Cellarman', academic_degree='Bachelor', salary=73, location='Delaware'),\n",
       " Row(id=2, name='Joette Lane', age=32, height_meter=1.8, weight_kg=73, children=1, occupation='Veterinary Surgeon', academic_degree='Master', salary=69, location='South Dakota'),\n",
       " Row(id=3, name='Jazmine Hunt', age=61, height_meter=1.79, weight_kg=89, children=0, occupation='Hawker', academic_degree='PhD', salary=88, location='Louisiana'),\n",
       " Row(id=4, name='Remedios Gomez', age=23, height_meter=1.64, weight_kg=51, children=2, occupation='Choreographer', academic_degree='Bachelor', salary=83, location='West Virginia'),\n",
       " Row(id=5, name='Myung Brewer', age=20, height_meter=1.68, weight_kg=60, children=4, occupation='Window Dresser', academic_degree='Bachelor', salary=65, location='South Dakota'),\n",
       " Row(id=6, name='Shaun Lynch', age=31, height_meter=1.56, weight_kg=62, children=0, occupation='Weaver', academic_degree='Master', salary=72, location='Louisiana'),\n",
       " Row(id=7, name='Melodi Mcdowell', age=56, height_meter=1.6, weight_kg=42, children=0, occupation='Lighthouse Keeper', academic_degree='Master', salary=65, location='Louisiana'),\n",
       " Row(id=8, name='Charlesetta Stevenson', age=30, height_meter=1.62, weight_kg=44, children=3, occupation='Millwright', academic_degree='Master', salary=87, location='Louisiana'),\n",
       " Row(id=9, name='Merri Charles', age=44, height_meter=1.69, weight_kg=51, children=5, occupation='Medical Supplier', academic_degree='PhD', salary=72, location='West Virginia')]"
      ]
     },
     "execution_count": 5,
     "metadata": {},
     "output_type": "execute_result"
    }
   ],
   "source": [
    "#Print out the first 10 rows\n",
    "df.head(10)"
   ]
  },
  {
   "cell_type": "code",
   "execution_count": 7,
   "metadata": {},
   "outputs": [
    {
     "name": "stdout",
     "output_type": "stream",
     "text": [
      "+-------+------------------+------------------+------------------+\n",
      "|summary|               age|      height_meter|         weight_kg|\n",
      "+-------+------------------+------------------+------------------+\n",
      "|  count|              1000|              1000|              1000|\n",
      "|   mean|            42.933|1.7519499999999995|            64.011|\n",
      "| stddev|14.255445581556843|0.1436897499623555|15.005733939099779|\n",
      "|    min|                18|               1.5|                38|\n",
      "|    max|                67|               2.0|                90|\n",
      "+-------+------------------+------------------+------------------+\n",
      "\n"
     ]
    }
   ],
   "source": [
    "#Select the age, height_meter, and weight_kg columns and use describe\n",
    "df.select(['age','height_meter','weight_kg']).describe().show()"
   ]
  },
  {
   "cell_type": "code",
   "execution_count": 8,
   "metadata": {},
   "outputs": [
    {
     "name": "stdout",
     "output_type": "stream",
     "text": [
      "root\n",
      " |-- id: integer (nullable = true)\n",
      " |-- name: string (nullable = true)\n",
      " |-- age: integer (nullable = true)\n",
      " |-- height_meter: double (nullable = true)\n",
      " |-- weight_kg: integer (nullable = true)\n",
      " |-- children: integer (nullable = true)\n",
      " |-- occupation: string (nullable = true)\n",
      " |-- academic_degree: string (nullable = true)\n",
      " |-- salary: integer (nullable = true)\n",
      " |-- location: string (nullable = true)\n",
      "\n"
     ]
    }
   ],
   "source": [
    "#Print the schema to see the types\n",
    "df.printSchema()"
   ]
  },
  {
   "cell_type": "code",
   "execution_count": 9,
   "metadata": {},
   "outputs": [
    {
     "name": "stdout",
     "output_type": "stream",
     "text": [
      "+-----------+\n",
      "|Salary (1k)|\n",
      "+-----------+\n",
      "|         68|\n",
      "|         73|\n",
      "|         69|\n",
      "|         88|\n",
      "|         83|\n",
      "|         65|\n",
      "|         72|\n",
      "|         65|\n",
      "|         87|\n",
      "|         72|\n",
      "|         73|\n",
      "|         90|\n",
      "|         78|\n",
      "|         69|\n",
      "|         75|\n",
      "|         77|\n",
      "|         76|\n",
      "|         90|\n",
      "|         79|\n",
      "|         77|\n",
      "+-----------+\n",
      "only showing top 20 rows\n",
      "\n"
     ]
    }
   ],
   "source": [
    "#Rename the Salary column to 'Salary (1k)' and show only this column\n",
    "df = df.withColumnRenamed('salary', 'Salary (1k)')\n",
    "df.select('Salary (1k)').show()"
   ]
  },
  {
   "cell_type": "code",
   "execution_count": 10,
   "metadata": {},
   "outputs": [
    {
     "name": "stdout",
     "output_type": "stream",
     "text": [
      "+------+-----------+\n",
      "|Salary|Salary (1k)|\n",
      "+------+-----------+\n",
      "| 68000|         68|\n",
      "| 73000|         73|\n",
      "| 69000|         69|\n",
      "| 88000|         88|\n",
      "| 83000|         83|\n",
      "| 65000|         65|\n",
      "| 72000|         72|\n",
      "| 65000|         65|\n",
      "| 87000|         87|\n",
      "| 72000|         72|\n",
      "| 73000|         73|\n",
      "| 90000|         90|\n",
      "| 78000|         78|\n",
      "| 69000|         69|\n",
      "| 75000|         75|\n",
      "| 77000|         77|\n",
      "| 76000|         76|\n",
      "| 90000|         90|\n",
      "| 79000|         79|\n",
      "| 77000|         77|\n",
      "+------+-----------+\n",
      "only showing top 20 rows\n",
      "\n"
     ]
    }
   ],
   "source": [
    "#Create a new column calle 'Salary' where the values are the 'Salary (1k)' * 1000\n",
    "#Show the columns 'Salary' and 'Salary (1k)'\n",
    "df = df.withColumn('Salary', df['Salary (1k)']*1000)\n",
    "df.select('Salary','Salary (1k)').show()"
   ]
  },
  {
   "cell_type": "code",
   "execution_count": null,
   "metadata": {},
   "outputs": [],
   "source": []
  }
 ],
 "metadata": {
  "kernelspec": {
   "display_name": "Python 3",
   "language": "python",
   "name": "python3"
  },
  "language_info": {
   "codemirror_mode": {
    "name": "ipython",
    "version": 3
   },
   "file_extension": ".py",
   "mimetype": "text/x-python",
   "name": "python",
   "nbconvert_exporter": "python",
   "pygments_lexer": "ipython3",
   "version": "3.7.0"
  }
 },
 "nbformat": 4,
 "nbformat_minor": 2
}
